{
 "cells": [
  {
   "cell_type": "code",
   "execution_count": 1,
   "metadata": {},
   "outputs": [],
   "source": [
    "import pandas as pd\n",
    "from sklearn.model_selection import train_test_split"
   ]
  },
  {
   "cell_type": "code",
   "execution_count": 2,
   "metadata": {},
   "outputs": [],
   "source": [
    "def processing(path):\n",
    "\n",
    "    df_avc = pd.read_csv(path)\n",
    "    df_avc.drop('Unnamed: 0',1,inplace=True)\n",
    "    \n",
    "    df2 = df_avc[['id', 'gender', 'age', 'hypertension', 'heart_disease',\n",
    "       'ever_married', 'work_type', 'Residence_type', 'avg_glucose_level',\n",
    "       'bmi', 'smoking_status', 'stroke']]\n",
    "    df2 = df_avc\n",
    "    df_avc.columns = ['Id','Genre','Age', 'Hypertension', 'Maladie_cardiaque', 'Deja_marie', 'Type_job', 'Zone_residence', 'Glycemie', 'IMC', 'Fumeur', 'AVC']\n",
    "\n",
    "    #Remplacement des valeurs en chaine de caractères en int\n",
    "\n",
    "    #Homme = 0, Femme = 1, Autre = 2\n",
    "    df_avc.Genre = df_avc.Genre.replace('Male', 0)\n",
    "    df_avc.Genre = df_avc.Genre.replace('Female', 1)\n",
    "    df_avc.Genre = df_avc.Genre.replace('Other', 2)\n",
    "\n",
    "    #Déjà marié : 0 => non; 1=> oui\n",
    "    df_avc.Deja_marie = df_avc.Deja_marie.replace('No', 0)\n",
    "    df_avc.Deja_marie = df_avc.Deja_marie.replace('Yes', 1)\n",
    "\n",
    "    #Type de travail : Secteur privé (0), Secteur public (1),\n",
    "    # Auto-entrepreneur (2), enfant (3), jamais travaillé (4)\n",
    "    df_avc.Type_job = df_avc.Type_job.replace('Private', 0)\n",
    "    df_avc.Type_job = df_avc.Type_job.replace('Govt_job', 1)\n",
    "    df_avc.Type_job = df_avc.Type_job.replace('Self-employed', 2)\n",
    "    df_avc.Type_job = df_avc.Type_job.replace('children', 3)\n",
    "    df_avc.Type_job = df_avc.Type_job.replace('Never_worked', 4)\n",
    "\n",
    "    #Zone résidentielle : Urbain (0), Rural (2)\n",
    "    df_avc.Zone_residence = df_avc.Zone_residence.replace('Urban', 0)\n",
    "    df_avc.Zone_residence = df_avc.Zone_residence.replace('Rural', 1)\n",
    "\n",
    "    #Fumeur : Jamais fumé (0), Ancien fumeur (1), Fumeur (2), inconnu (3)\n",
    "    df_avc.Fumeur = df_avc.Fumeur.replace('never smoked', 0)\n",
    "    df_avc.Fumeur = df_avc.Fumeur.replace('formerly smoked', 1)\n",
    "    df_avc.Fumeur = df_avc.Fumeur.replace('smokes', 2)\n",
    "    df_avc.Fumeur = df_avc.Fumeur.replace('Unknown', 3)\n",
    "    \n",
    "    #remplacement des nan par la moyenne de la colonne\n",
    "    #df_avc['IMC'].fillna((df_avc['IMC'].mean()), inplace=True)\n",
    "    \n",
    "    # OU suppression des nan\n",
    "    df_avc = df_avc.dropna()\n",
    "    \n",
    "    #sépération Train/Test\n",
    "    Xtrain, Xtest, Ytrain, Ytest = train_test_split(df_avc[['Genre', 'Age', 'Hypertension', 'Maladie_cardiaque', 'Deja_marie', 'Type_job', 'Zone_residence', 'Glycemie', 'IMC', 'Fumeur']], df_avc['AVC'], test_size=0.20, random_state=42)\n",
    "    #print(df_avc)\n",
    "    #print(Xtrain)\n",
    "    #print(Ytrain)\n",
    "    #print(Xtest)\n",
    "    #print(Ytest)\n",
    "    return df_avc, Xtrain, Xtest, Ytrain, Ytest"
   ]
  },
  {
   "cell_type": "code",
   "execution_count": 3,
   "metadata": {},
   "outputs": [
    {
     "name": "stdout",
     "output_type": "stream",
     "text": [
      "         Id  Genre   Age  Hypertension  Maladie_cardiaque  Deja_marie  \\\n",
      "0      9046      0  67.0             0                  1           1   \n",
      "2     31112      0  80.0             0                  1           1   \n",
      "3     60182      1  49.0             0                  0           1   \n",
      "4      1665      1  79.0             1                  0           1   \n",
      "5     56669      0  81.0             0                  0           1   \n",
      "6     53882      0  74.0             1                  1           1   \n",
      "7     10434      1  69.0             0                  0           0   \n",
      "9     60491      1  78.0             0                  0           1   \n",
      "10    12109      1  81.0             1                  0           1   \n",
      "11    12095      1  61.0             0                  1           1   \n",
      "12    12175      1  54.0             0                  0           1   \n",
      "14     5317      1  79.0             0                  1           1   \n",
      "15    58202      1  50.0             1                  0           1   \n",
      "16    56112      0  64.0             0                  1           1   \n",
      "17    34120      0  75.0             1                  0           1   \n",
      "18    27458      1  60.0             0                  0           0   \n",
      "20    70630      1  71.0             0                  0           1   \n",
      "21    13861      1  52.0             1                  0           1   \n",
      "22    68794      1  79.0             0                  0           1   \n",
      "23    64778      0  82.0             0                  1           1   \n",
      "24     4219      0  71.0             0                  0           1   \n",
      "25    70822      0  80.0             0                  0           1   \n",
      "26    38047      1  65.0             0                  0           1   \n",
      "28    54827      0  69.0             0                  1           1   \n",
      "30    43717      0  57.0             1                  0           1   \n",
      "31    33879      0  42.0             0                  0           1   \n",
      "32    39373      1  82.0             1                  0           1   \n",
      "33    54401      0  80.0             0                  1           1   \n",
      "34    14248      0  48.0             0                  0           0   \n",
      "35      712      1  82.0             1                  1           0   \n",
      "...     ...    ...   ...           ...                ...         ...   \n",
      "6072      0      0  66.0             0                  0           1   \n",
      "6073      0      0  66.0             0                  0           1   \n",
      "6074      0      0  57.0             0                  0           1   \n",
      "6075      0      0  57.0             0                  0           1   \n",
      "6076      0      0  57.0             0                  0           1   \n",
      "6077      0      0  57.0             0                  0           1   \n",
      "6078      0      0  68.0             0                  0           1   \n",
      "6079      0      0  68.0             0                  0           1   \n",
      "6080      0      0  68.0             0                  0           1   \n",
      "6081      0      0  68.0             0                  0           1   \n",
      "6082      0      1  68.0             1                  1           1   \n",
      "6083      0      1  68.0             1                  1           1   \n",
      "6084      0      1  68.0             1                  1           1   \n",
      "6085      0      1  68.0             1                  1           1   \n",
      "6086      0      0  57.0             0                  0           1   \n",
      "6087      0      0  57.0             0                  0           1   \n",
      "6088      0      0  57.0             0                  0           1   \n",
      "6089      0      0  57.0             0                  0           1   \n",
      "6090      0      1  14.0             0                  0           0   \n",
      "6091      0      1  14.0             0                  0           0   \n",
      "6092      0      1  14.0             0                  0           0   \n",
      "6093      0      1  14.0             0                  0           0   \n",
      "6094      0      1  75.0             0                  0           1   \n",
      "6095      0      1  75.0             0                  0           1   \n",
      "6096      0      1  75.0             0                  0           1   \n",
      "6097      0      1  75.0             0                  0           1   \n",
      "6102      0      1  78.0             0                  0           1   \n",
      "6103      0      1  78.0             0                  0           1   \n",
      "6104      0      1  78.0             0                  0           1   \n",
      "6105      0      1  78.0             0                  0           1   \n",
      "\n",
      "      Type_job  Zone_residence  Glycemie   IMC  Fumeur  AVC  \n",
      "0            0               0    228.69  36.6       1    1  \n",
      "2            0               1    105.92  32.5       0    1  \n",
      "3            0               0    171.23  34.4       2    1  \n",
      "4            2               1    174.12  24.0       0    1  \n",
      "5            0               0    186.21  29.0       1    1  \n",
      "6            0               1     70.09  27.4       0    1  \n",
      "7            0               0     94.39  22.8       0    1  \n",
      "9            0               0     58.57  24.2       3    1  \n",
      "10           0               1     80.43  29.7       0    1  \n",
      "11           1               1    120.46  36.8       2    1  \n",
      "12           0               0    104.51  27.3       2    1  \n",
      "14           0               0    214.09  28.2       0    1  \n",
      "15           2               1    167.41  30.9       0    1  \n",
      "16           0               0    191.61  37.5       2    1  \n",
      "17           0               0    221.29  25.8       2    1  \n",
      "18           0               0     89.22  37.8       0    1  \n",
      "20           1               1    193.94  22.4       2    1  \n",
      "21           2               0    233.29  48.9       0    1  \n",
      "22           2               0    228.70  26.6       0    1  \n",
      "23           0               1    208.30  32.5       3    1  \n",
      "24           0               0    102.87  27.2       1    1  \n",
      "25           2               1    104.12  23.5       0    1  \n",
      "26           0               1    100.98  28.2       1    1  \n",
      "28           2               0    195.23  28.3       2    1  \n",
      "30           0               0    212.08  44.2       2    1  \n",
      "31           0               1     83.41  25.4       3    1  \n",
      "32           2               0    196.92  22.2       0    1  \n",
      "33           2               0    252.72  30.5       1    1  \n",
      "34           1               0     84.20  29.7       0    1  \n",
      "35           0               1     84.03  26.5       1    1  \n",
      "...        ...             ...       ...   ...     ...  ...  \n",
      "6072         0               1     96.46  24.2       1    1  \n",
      "6073         0               1    116.46  25.2       1    1  \n",
      "6074         0               1    202.28  35.5       1    1  \n",
      "6075         0               1    207.28  36.5       1    1  \n",
      "6076         0               1    217.28  37.5       1    1  \n",
      "6077         0               1    237.28  38.5       1    1  \n",
      "6078         0               1    238.94  43.4       0    1  \n",
      "6079         0               1    243.94  44.4       0    1  \n",
      "6080         0               1    253.94  45.4       0    1  \n",
      "6081         0               1    273.94  46.4       0    1  \n",
      "6082         0               0    252.51  41.5       1    1  \n",
      "6083         0               0    257.51  42.5       1    1  \n",
      "6084         0               0    267.51  43.5       1    1  \n",
      "6085         0               0    287.51  44.5       1    1  \n",
      "6086         0               1     89.96  37.7       3    1  \n",
      "6087         0               1     94.96  38.7       3    1  \n",
      "6088         0               1    104.96  39.7       3    1  \n",
      "6089         0               1    124.96  40.7       3    1  \n",
      "6090         3               1     62.93  31.9       3    1  \n",
      "6091         3               1     67.93  32.9       3    1  \n",
      "6092         3               1     77.93  33.9       3    1  \n",
      "6093         3               1     97.93  34.9       3    1  \n",
      "6094         2               1     83.80  30.3       1    1  \n",
      "6095         2               1     88.80  31.3       1    1  \n",
      "6096         2               1     98.80  32.3       1    1  \n",
      "6097         2               1    118.80  33.3       1    1  \n",
      "6102         0               1     83.81  20.6       3    1  \n",
      "6103         0               1     88.81  21.6       3    1  \n",
      "6104         0               1     98.81  22.6       3    1  \n",
      "6105         0               1    118.81  23.6       3    1  \n",
      "\n",
      "[5745 rows x 12 columns]\n"
     ]
    }
   ],
   "source": [
    "df_avc, Xtrain, Xtest, Ytrain, Ytest=processing(\"healthcare-dataset-stroke-data-1.csv\")\n",
    "print(df_avc)"
   ]
  },
  {
   "cell_type": "code",
   "execution_count": 4,
   "metadata": {},
   "outputs": [
    {
     "data": {
      "text/html": [
       "<div>\n",
       "<style scoped>\n",
       "    .dataframe tbody tr th:only-of-type {\n",
       "        vertical-align: middle;\n",
       "    }\n",
       "\n",
       "    .dataframe tbody tr th {\n",
       "        vertical-align: top;\n",
       "    }\n",
       "\n",
       "    .dataframe thead th {\n",
       "        text-align: right;\n",
       "    }\n",
       "</style>\n",
       "<table border=\"1\" class=\"dataframe\">\n",
       "  <thead>\n",
       "    <tr style=\"text-align: right;\">\n",
       "      <th></th>\n",
       "      <th>Id</th>\n",
       "      <th>Genre</th>\n",
       "      <th>Age</th>\n",
       "      <th>Hypertension</th>\n",
       "      <th>Maladie_cardiaque</th>\n",
       "      <th>Deja_marie</th>\n",
       "      <th>Type_job</th>\n",
       "      <th>Zone_residence</th>\n",
       "      <th>Glycemie</th>\n",
       "      <th>IMC</th>\n",
       "      <th>Fumeur</th>\n",
       "      <th>AVC</th>\n",
       "    </tr>\n",
       "  </thead>\n",
       "  <tbody>\n",
       "    <tr>\n",
       "      <th>Id</th>\n",
       "      <td>1.000000</td>\n",
       "      <td>0.002004</td>\n",
       "      <td>-0.205149</td>\n",
       "      <td>-0.117431</td>\n",
       "      <td>-0.106819</td>\n",
       "      <td>-0.087550</td>\n",
       "      <td>0.015000</td>\n",
       "      <td>0.001817</td>\n",
       "      <td>-0.182486</td>\n",
       "      <td>-0.100681</td>\n",
       "      <td>0.041227</td>\n",
       "      <td>-0.486952</td>\n",
       "    </tr>\n",
       "    <tr>\n",
       "      <th>Genre</th>\n",
       "      <td>0.002004</td>\n",
       "      <td>1.000000</td>\n",
       "      <td>0.016944</td>\n",
       "      <td>-0.008063</td>\n",
       "      <td>-0.101059</td>\n",
       "      <td>0.020528</td>\n",
       "      <td>-0.046630</td>\n",
       "      <td>-0.004265</td>\n",
       "      <td>-0.071353</td>\n",
       "      <td>0.014403</td>\n",
       "      <td>-0.090930</td>\n",
       "      <td>-0.013404</td>\n",
       "    </tr>\n",
       "    <tr>\n",
       "      <th>Age</th>\n",
       "      <td>-0.205149</td>\n",
       "      <td>0.016944</td>\n",
       "      <td>1.000000</td>\n",
       "      <td>0.293753</td>\n",
       "      <td>0.276473</td>\n",
       "      <td>0.653432</td>\n",
       "      <td>-0.317046</td>\n",
       "      <td>-0.014303</td>\n",
       "      <td>0.312607</td>\n",
       "      <td>0.331293</td>\n",
       "      <td>-0.310227</td>\n",
       "      <td>0.433374</td>\n",
       "    </tr>\n",
       "    <tr>\n",
       "      <th>Hypertension</th>\n",
       "      <td>-0.117431</td>\n",
       "      <td>-0.008063</td>\n",
       "      <td>0.293753</td>\n",
       "      <td>1.000000</td>\n",
       "      <td>0.112152</td>\n",
       "      <td>0.149050</td>\n",
       "      <td>-0.026951</td>\n",
       "      <td>-0.000070</td>\n",
       "      <td>0.219656</td>\n",
       "      <td>0.174204</td>\n",
       "      <td>-0.143549</td>\n",
       "      <td>0.241794</td>\n",
       "    </tr>\n",
       "    <tr>\n",
       "      <th>Maladie_cardiaque</th>\n",
       "      <td>-0.106819</td>\n",
       "      <td>-0.101059</td>\n",
       "      <td>0.276473</td>\n",
       "      <td>0.112152</td>\n",
       "      <td>1.000000</td>\n",
       "      <td>0.120624</td>\n",
       "      <td>-0.055798</td>\n",
       "      <td>-0.001019</td>\n",
       "      <td>0.230403</td>\n",
       "      <td>0.070283</td>\n",
       "      <td>-0.024985</td>\n",
       "      <td>0.223841</td>\n",
       "    </tr>\n",
       "    <tr>\n",
       "      <th>Deja_marie</th>\n",
       "      <td>-0.087550</td>\n",
       "      <td>0.020528</td>\n",
       "      <td>0.653432</td>\n",
       "      <td>0.149050</td>\n",
       "      <td>0.120624</td>\n",
       "      <td>1.000000</td>\n",
       "      <td>-0.333817</td>\n",
       "      <td>0.005832</td>\n",
       "      <td>0.195779</td>\n",
       "      <td>0.337835</td>\n",
       "      <td>-0.237122</td>\n",
       "      <td>0.206200</td>\n",
       "    </tr>\n",
       "    <tr>\n",
       "      <th>Type_job</th>\n",
       "      <td>0.015000</td>\n",
       "      <td>-0.046630</td>\n",
       "      <td>-0.317046</td>\n",
       "      <td>-0.026951</td>\n",
       "      <td>-0.055798</td>\n",
       "      <td>-0.333817</td>\n",
       "      <td>1.000000</td>\n",
       "      <td>-0.010847</td>\n",
       "      <td>-0.074878</td>\n",
       "      <td>-0.325414</td>\n",
       "      <td>0.262777</td>\n",
       "      <td>-0.078725</td>\n",
       "    </tr>\n",
       "    <tr>\n",
       "      <th>Zone_residence</th>\n",
       "      <td>0.001817</td>\n",
       "      <td>-0.004265</td>\n",
       "      <td>-0.014303</td>\n",
       "      <td>-0.000070</td>\n",
       "      <td>-0.001019</td>\n",
       "      <td>0.005832</td>\n",
       "      <td>-0.010847</td>\n",
       "      <td>1.000000</td>\n",
       "      <td>-0.003313</td>\n",
       "      <td>-0.008873</td>\n",
       "      <td>-0.010039</td>\n",
       "      <td>-0.011525</td>\n",
       "    </tr>\n",
       "    <tr>\n",
       "      <th>Glycemie</th>\n",
       "      <td>-0.182486</td>\n",
       "      <td>-0.071353</td>\n",
       "      <td>0.312607</td>\n",
       "      <td>0.219656</td>\n",
       "      <td>0.230403</td>\n",
       "      <td>0.195779</td>\n",
       "      <td>-0.074878</td>\n",
       "      <td>-0.003313</td>\n",
       "      <td>1.000000</td>\n",
       "      <td>0.248201</td>\n",
       "      <td>-0.098859</td>\n",
       "      <td>0.347159</td>\n",
       "    </tr>\n",
       "    <tr>\n",
       "      <th>IMC</th>\n",
       "      <td>-0.100681</td>\n",
       "      <td>0.014403</td>\n",
       "      <td>0.331293</td>\n",
       "      <td>0.174204</td>\n",
       "      <td>0.070283</td>\n",
       "      <td>0.337835</td>\n",
       "      <td>-0.325414</td>\n",
       "      <td>-0.008873</td>\n",
       "      <td>0.248201</td>\n",
       "      <td>1.000000</td>\n",
       "      <td>-0.207346</td>\n",
       "      <td>0.180561</td>\n",
       "    </tr>\n",
       "    <tr>\n",
       "      <th>Fumeur</th>\n",
       "      <td>0.041227</td>\n",
       "      <td>-0.090930</td>\n",
       "      <td>-0.310227</td>\n",
       "      <td>-0.143549</td>\n",
       "      <td>-0.024985</td>\n",
       "      <td>-0.237122</td>\n",
       "      <td>0.262777</td>\n",
       "      <td>-0.010039</td>\n",
       "      <td>-0.098859</td>\n",
       "      <td>-0.207346</td>\n",
       "      <td>1.000000</td>\n",
       "      <td>-0.102232</td>\n",
       "    </tr>\n",
       "    <tr>\n",
       "      <th>AVC</th>\n",
       "      <td>-0.486952</td>\n",
       "      <td>-0.013404</td>\n",
       "      <td>0.433374</td>\n",
       "      <td>0.241794</td>\n",
       "      <td>0.223841</td>\n",
       "      <td>0.206200</td>\n",
       "      <td>-0.078725</td>\n",
       "      <td>-0.011525</td>\n",
       "      <td>0.347159</td>\n",
       "      <td>0.180561</td>\n",
       "      <td>-0.102232</td>\n",
       "      <td>1.000000</td>\n",
       "    </tr>\n",
       "  </tbody>\n",
       "</table>\n",
       "</div>"
      ],
      "text/plain": [
       "                         Id     Genre       Age  Hypertension  \\\n",
       "Id                 1.000000  0.002004 -0.205149     -0.117431   \n",
       "Genre              0.002004  1.000000  0.016944     -0.008063   \n",
       "Age               -0.205149  0.016944  1.000000      0.293753   \n",
       "Hypertension      -0.117431 -0.008063  0.293753      1.000000   \n",
       "Maladie_cardiaque -0.106819 -0.101059  0.276473      0.112152   \n",
       "Deja_marie        -0.087550  0.020528  0.653432      0.149050   \n",
       "Type_job           0.015000 -0.046630 -0.317046     -0.026951   \n",
       "Zone_residence     0.001817 -0.004265 -0.014303     -0.000070   \n",
       "Glycemie          -0.182486 -0.071353  0.312607      0.219656   \n",
       "IMC               -0.100681  0.014403  0.331293      0.174204   \n",
       "Fumeur             0.041227 -0.090930 -0.310227     -0.143549   \n",
       "AVC               -0.486952 -0.013404  0.433374      0.241794   \n",
       "\n",
       "                   Maladie_cardiaque  Deja_marie  Type_job  Zone_residence  \\\n",
       "Id                         -0.106819   -0.087550  0.015000        0.001817   \n",
       "Genre                      -0.101059    0.020528 -0.046630       -0.004265   \n",
       "Age                         0.276473    0.653432 -0.317046       -0.014303   \n",
       "Hypertension                0.112152    0.149050 -0.026951       -0.000070   \n",
       "Maladie_cardiaque           1.000000    0.120624 -0.055798       -0.001019   \n",
       "Deja_marie                  0.120624    1.000000 -0.333817        0.005832   \n",
       "Type_job                   -0.055798   -0.333817  1.000000       -0.010847   \n",
       "Zone_residence             -0.001019    0.005832 -0.010847        1.000000   \n",
       "Glycemie                    0.230403    0.195779 -0.074878       -0.003313   \n",
       "IMC                         0.070283    0.337835 -0.325414       -0.008873   \n",
       "Fumeur                     -0.024985   -0.237122  0.262777       -0.010039   \n",
       "AVC                         0.223841    0.206200 -0.078725       -0.011525   \n",
       "\n",
       "                   Glycemie       IMC    Fumeur       AVC  \n",
       "Id                -0.182486 -0.100681  0.041227 -0.486952  \n",
       "Genre             -0.071353  0.014403 -0.090930 -0.013404  \n",
       "Age                0.312607  0.331293 -0.310227  0.433374  \n",
       "Hypertension       0.219656  0.174204 -0.143549  0.241794  \n",
       "Maladie_cardiaque  0.230403  0.070283 -0.024985  0.223841  \n",
       "Deja_marie         0.195779  0.337835 -0.237122  0.206200  \n",
       "Type_job          -0.074878 -0.325414  0.262777 -0.078725  \n",
       "Zone_residence    -0.003313 -0.008873 -0.010039 -0.011525  \n",
       "Glycemie           1.000000  0.248201 -0.098859  0.347159  \n",
       "IMC                0.248201  1.000000 -0.207346  0.180561  \n",
       "Fumeur            -0.098859 -0.207346  1.000000 -0.102232  \n",
       "AVC                0.347159  0.180561 -0.102232  1.000000  "
      ]
     },
     "execution_count": 4,
     "metadata": {},
     "output_type": "execute_result"
    }
   ],
   "source": [
    "df_avc.corr()"
   ]
  },
  {
   "cell_type": "code",
   "execution_count": 5,
   "metadata": {},
   "outputs": [
    {
     "name": "stdout",
     "output_type": "stream",
     "text": [
      "Automatically created module for IPython interactive environment\n"
     ]
    }
   ],
   "source": [
    "#fonction trouvé sur sklearn pour afficher le learning rate\n",
    "print(__doc__)\n",
    "\n",
    "from sklearn import metrics\n",
    "import numpy as np\n",
    "import matplotlib.pyplot as plt\n",
    "from sklearn.naive_bayes import GaussianNB\n",
    "from sklearn.svm import SVC\n",
    "from sklearn.datasets import load_digits\n",
    "from sklearn.model_selection import learning_curve\n",
    "from sklearn.model_selection import ShuffleSplit\n",
    "\n",
    "\n",
    "def plot_learning_curve(estimator, title, X, y, axes=None, ylim=None, cv=None,\n",
    "                        n_jobs=None, train_sizes=np.linspace(.1, 1.0, 10)):\n",
    "    \"\"\"\n",
    "    Generate 3 plots: the test and training learning curve, the training\n",
    "    samples vs fit times curve, the fit times vs score curve.\n",
    "\n",
    "    Parameters\n",
    "    ----------\n",
    "    estimator : estimator instance\n",
    "        An estimator instance implementing `fit` and `predict` methods which\n",
    "        will be cloned for each validation.\n",
    "\n",
    "    title : str\n",
    "        Title for the chart.\n",
    "\n",
    "    X : array-like of shape (n_samples, n_features)\n",
    "        Training vector, where ``n_samples`` is the number of samples and\n",
    "        ``n_features`` is the number of features.\n",
    "\n",
    "    y : array-like of shape (n_samples) or (n_samples, n_features)\n",
    "        Target relative to ``X`` for classification or regression;\n",
    "        None for unsupervised learning.\n",
    "\n",
    "    axes : array-like of shape (3,), default=None\n",
    "        Axes to use for plotting the curves.\n",
    "\n",
    "    ylim : tuple of shape (2,), default=None\n",
    "        Defines minimum and maximum y-values plotted, e.g. (ymin, ymax).\n",
    "\n",
    "    cv : int, cross-validation generator or an iterable, default=None\n",
    "        Determines the cross-validation splitting strategy.\n",
    "        Possible inputs for cv are:\n",
    "\n",
    "          - None, to use the default 5-fold cross-validation,\n",
    "          - integer, to specify the number of folds.\n",
    "          - :term:`CV splitter`,\n",
    "          - An iterable yielding (train, test) splits as arrays of indices.\n",
    "\n",
    "        For integer/None inputs, if ``y`` is binary or multiclass,\n",
    "        :class:`StratifiedKFold` used. If the estimator is not a classifier\n",
    "        or if ``y`` is neither binary nor multiclass, :class:`KFold` is used.\n",
    "\n",
    "        Refer :ref:`User Guide <cross_validation>` for the various\n",
    "        cross-validators that can be used here.\n",
    "\n",
    "    n_jobs : int or None, default=None\n",
    "        Number of jobs to run in parallel.\n",
    "        ``None`` means 1 unless in a :obj:`joblib.parallel_backend` context.\n",
    "        ``-1`` means using all processors. See :term:`Glossary <n_jobs>`\n",
    "        for more details.\n",
    "\n",
    "    train_sizes : array-like of shape (n_ticks,)\n",
    "        Relative or absolute numbers of training examples that will be used to\n",
    "        generate the learning curve. If the ``dtype`` is float, it is regarded\n",
    "        as a fraction of the maximum size of the training set (that is\n",
    "        determined by the selected validation method), i.e. it has to be within\n",
    "        (0, 1]. Otherwise it is interpreted as absolute sizes of the training\n",
    "        sets. Note that for classification the number of samples usually have\n",
    "        to be big enough to contain at least one sample from each class.\n",
    "        (default: np.linspace(0.1, 1.0, 5))\n",
    "    \"\"\"\n",
    "    if axes is None:\n",
    "        _, axes = plt.subplots(1, 3, figsize=(20, 5))\n",
    "\n",
    "    axes[0].set_title(title)\n",
    "    if ylim is not None:\n",
    "        axes[0].set_ylim(*ylim)\n",
    "    axes[0].set_xlabel(\"Training examples\")\n",
    "    axes[0].set_ylabel(\"Score\")\n",
    "\n",
    "    train_sizes, train_scores, test_scores, fit_times, _ = \\\n",
    "        learning_curve(estimator, X, y, cv=cv, n_jobs=n_jobs,\n",
    "                       train_sizes=train_sizes,\n",
    "                       return_times=True)\n",
    "    train_scores_mean = np.mean(train_scores, axis=1)\n",
    "    train_scores_std = np.std(train_scores, axis=1)\n",
    "    test_scores_mean = np.mean(test_scores, axis=1)\n",
    "    test_scores_std = np.std(test_scores, axis=1)\n",
    "    fit_times_mean = np.mean(fit_times, axis=1)\n",
    "    fit_times_std = np.std(fit_times, axis=1)\n",
    "\n",
    "    # Plot learning curve\n",
    "    axes[0].grid()\n",
    "\n",
    "    axes[0].plot(train_sizes, train_scores_mean, 'o-', color=\"r\",\n",
    "                 label=\"Training score\")\n",
    "    axes[0].plot(train_sizes, test_scores_mean, 'o-', color=\"g\",\n",
    "                 label=\"Cross-validation score\")\n",
    "    axes[0].legend(loc=\"best\")\n",
    "\n",
    "    # Plot n_samples vs fit_times\n",
    "    axes[1].grid()\n",
    "    axes[1].plot(train_sizes, fit_times_mean, 'o-')\n",
    "\n",
    "    axes[1].set_xlabel(\"Training examples\")\n",
    "    axes[1].set_ylabel(\"fit_times\")\n",
    "    axes[1].set_title(\"Scalability of the model\")\n",
    "\n",
    "    # Plot fit_time vs score\n",
    "    axes[2].grid()\n",
    "    axes[2].plot(fit_times_mean, test_scores_mean, 'o-')\n",
    "\n",
    "    axes[2].set_xlabel(\"fit_times\")\n",
    "    axes[2].set_ylabel(\"Score\")\n",
    "    axes[2].set_title(\"Performance of the model\")\n",
    "\n",
    "    return plt"
   ]
  },
  {
   "cell_type": "markdown",
   "metadata": {},
   "source": [
    "# Choix du modele\n",
    "#### Nos données sont labelisés donc on va tester des algos d'apprentissage supervisé"
   ]
  },
  {
   "cell_type": "markdown",
   "metadata": {},
   "source": [
    "on commence par le perceptron, pour tester l'algo le plus \"basique\" meme si on sait que ca ne sera pas le meilleur"
   ]
  },
  {
   "cell_type": "code",
   "execution_count": 6,
   "metadata": {},
   "outputs": [
    {
     "name": "stderr",
     "output_type": "stream",
     "text": [
      "/opt/anaconda3/lib/python3.7/site-packages/sklearn/model_selection/_split.py:2053: FutureWarning: You should specify a value for 'cv' instead of relying on the default value. The default value will change from 3 to 5 in version 0.22.\n",
      "  warnings.warn(CV_WARNING, FutureWarning)\n"
     ]
    },
    {
     "name": "stdout",
     "output_type": "stream",
     "text": [
      "0.8224543080939948\n"
     ]
    }
   ],
   "source": [
    "from sklearn.linear_model import Perceptron\n",
    "from sklearn.model_selection import GridSearchCV\n",
    "perceptron=Perceptron(n_jobs=-1)\n",
    "\n",
    "parameters = {'penalty':('l2','l1','elasticnet',None),\n",
    "              'max_iter':(100,500,1000,2000,5000),\n",
    "              'tol':(1e-3,1e-4,1e-5),\n",
    "              'eta0':(1,0.1,0.01)\n",
    "             }\n",
    "\n",
    "clf = GridSearchCV(perceptron, parameters,refit=True)\n",
    "\n",
    "clf.fit(Xtrain, Ytrain)\n",
    "print(clf.score(Xtest,Ytest))\n"
   ]
  },
  {
   "cell_type": "code",
   "execution_count": 7,
   "metadata": {
    "scrolled": false
   },
   "outputs": [
    {
     "name": "stdout",
     "output_type": "stream",
     "text": [
      "Perceptron(alpha=0.0001, class_weight=None, early_stopping=False, eta0=0.1,\n",
      "      fit_intercept=True, max_iter=100, n_iter=None, n_iter_no_change=5,\n",
      "      n_jobs=-1, penalty='l2', random_state=0, shuffle=True, tol=0.001,\n",
      "      validation_fraction=0.1, verbose=0, warm_start=False)\n"
     ]
    },
    {
     "ename": "TypeError",
     "evalue": "learning_curve() got an unexpected keyword argument 'return_times'",
     "output_type": "error",
     "traceback": [
      "\u001b[0;31m---------------------------------------------------------------------------\u001b[0m",
      "\u001b[0;31mTypeError\u001b[0m                                 Traceback (most recent call last)",
      "\u001b[0;32m<ipython-input-7-77674b5597ec>\u001b[0m in \u001b[0;36m<module>\u001b[0;34m\u001b[0m\n\u001b[1;32m      4\u001b[0m \u001b[0mcv\u001b[0m \u001b[0;34m=\u001b[0m \u001b[0mShuffleSplit\u001b[0m\u001b[0;34m(\u001b[0m\u001b[0mn_splits\u001b[0m\u001b[0;34m=\u001b[0m\u001b[0;36m100\u001b[0m\u001b[0;34m,\u001b[0m \u001b[0mtest_size\u001b[0m\u001b[0;34m=\u001b[0m\u001b[0;36m0.2\u001b[0m\u001b[0;34m,\u001b[0m \u001b[0mrandom_state\u001b[0m\u001b[0;34m=\u001b[0m\u001b[0;36m0\u001b[0m\u001b[0;34m)\u001b[0m\u001b[0;34m\u001b[0m\u001b[0;34m\u001b[0m\u001b[0m\n\u001b[1;32m      5\u001b[0m plot_learning_curve(clf.best_estimator_, title, Xtrain, Ytrain, ylim=(0.1, 1.01),\n\u001b[0;32m----> 6\u001b[0;31m                     cv=None, n_jobs=4)\n\u001b[0m\u001b[1;32m      7\u001b[0m \u001b[0mmetrics\u001b[0m\u001b[0;34m.\u001b[0m\u001b[0mplot_roc_curve\u001b[0m\u001b[0;34m(\u001b[0m\u001b[0mclf\u001b[0m\u001b[0;34m.\u001b[0m\u001b[0mbest_estimator_\u001b[0m\u001b[0;34m,\u001b[0m \u001b[0mXtest\u001b[0m\u001b[0;34m,\u001b[0m \u001b[0mYtest\u001b[0m\u001b[0;34m)\u001b[0m\u001b[0;34m\u001b[0m\u001b[0;34m\u001b[0m\u001b[0m\n",
      "\u001b[0;32m<ipython-input-5-5c2ec223d7bf>\u001b[0m in \u001b[0;36mplot_learning_curve\u001b[0;34m(estimator, title, X, y, axes, ylim, cv, n_jobs, train_sizes)\u001b[0m\n\u001b[1;32m     85\u001b[0m         learning_curve(estimator, X, y, cv=cv, n_jobs=n_jobs,\n\u001b[1;32m     86\u001b[0m                        \u001b[0mtrain_sizes\u001b[0m\u001b[0;34m=\u001b[0m\u001b[0mtrain_sizes\u001b[0m\u001b[0;34m,\u001b[0m\u001b[0;34m\u001b[0m\u001b[0;34m\u001b[0m\u001b[0m\n\u001b[0;32m---> 87\u001b[0;31m                        return_times=True)\n\u001b[0m\u001b[1;32m     88\u001b[0m     \u001b[0mtrain_scores_mean\u001b[0m \u001b[0;34m=\u001b[0m \u001b[0mnp\u001b[0m\u001b[0;34m.\u001b[0m\u001b[0mmean\u001b[0m\u001b[0;34m(\u001b[0m\u001b[0mtrain_scores\u001b[0m\u001b[0;34m,\u001b[0m \u001b[0maxis\u001b[0m\u001b[0;34m=\u001b[0m\u001b[0;36m1\u001b[0m\u001b[0;34m)\u001b[0m\u001b[0;34m\u001b[0m\u001b[0;34m\u001b[0m\u001b[0m\n\u001b[1;32m     89\u001b[0m     \u001b[0mtrain_scores_std\u001b[0m \u001b[0;34m=\u001b[0m \u001b[0mnp\u001b[0m\u001b[0;34m.\u001b[0m\u001b[0mstd\u001b[0m\u001b[0;34m(\u001b[0m\u001b[0mtrain_scores\u001b[0m\u001b[0;34m,\u001b[0m \u001b[0maxis\u001b[0m\u001b[0;34m=\u001b[0m\u001b[0;36m1\u001b[0m\u001b[0;34m)\u001b[0m\u001b[0;34m\u001b[0m\u001b[0;34m\u001b[0m\u001b[0m\n",
      "\u001b[0;31mTypeError\u001b[0m: learning_curve() got an unexpected keyword argument 'return_times'"
     ]
    },
    {
     "data": {
      "image/png": "[encoded data removed]",
      "text/plain": [
       "<Figure size 1440x360 with 3 Axes>"
      ]
     },
     "metadata": {
      "needs_background": "light"
     },
     "output_type": "display_data"
    }
   ],
   "source": [
    "title = \"Perceptron\"\n",
    "# SVC is more expensive so we do a lower number of CV iterations:\n",
    "print(clf.best_estimator_)\n",
    "cv = ShuffleSplit(n_splits=100, test_size=0.2, random_state=0)\n",
    "plot_learning_curve(clf.best_estimator_, title, Xtrain, Ytrain, ylim=(0.1, 1.01),\n",
    "                    cv=None, n_jobs=4)\n",
    "metrics.plot_roc_curve(clf.best_estimator_, Xtest, Ytest) "
   ]
  },
  {
   "cell_type": "markdown",
   "metadata": {},
   "source": [
    "70% de reussite et une courbe ROC qui n'est pas si mauvaise pour un premier resultat, testons d autres algo pour faire mieux"
   ]
  },
  {
   "cell_type": "markdown",
   "metadata": {},
   "source": [
    "### on va tester les differents modeles pour Naive Bayes"
   ]
  },
  {
   "cell_type": "code",
   "execution_count": 8,
   "metadata": {},
   "outputs": [
    {
     "name": "stderr",
     "output_type": "stream",
     "text": [
      "/opt/anaconda3/lib/python3.7/site-packages/sklearn/model_selection/_split.py:2053: FutureWarning: You should specify a value for 'cv' instead of relying on the default value. The default value will change from 3 to 5 in version 0.22.\n",
      "  warnings.warn(CV_WARNING, FutureWarning)\n",
      "/opt/anaconda3/lib/python3.7/site-packages/sklearn/naive_bayes.py:480: UserWarning: alpha too small will result in numeric errors, setting alpha = 1.0e-10\n",
      "  'setting alpha = %.1e' % _ALPHA_MIN)\n",
      "/opt/anaconda3/lib/python3.7/site-packages/sklearn/naive_bayes.py:480: UserWarning: alpha too small will result in numeric errors, setting alpha = 1.0e-10\n",
      "  'setting alpha = %.1e' % _ALPHA_MIN)\n",
      "/opt/anaconda3/lib/python3.7/site-packages/sklearn/naive_bayes.py:480: UserWarning: alpha too small will result in numeric errors, setting alpha = 1.0e-10\n",
      "  'setting alpha = %.1e' % _ALPHA_MIN)\n",
      "/opt/anaconda3/lib/python3.7/site-packages/sklearn/naive_bayes.py:480: UserWarning: alpha too small will result in numeric errors, setting alpha = 1.0e-10\n",
      "  'setting alpha = %.1e' % _ALPHA_MIN)\n",
      "/opt/anaconda3/lib/python3.7/site-packages/sklearn/naive_bayes.py:480: UserWarning: alpha too small will result in numeric errors, setting alpha = 1.0e-10\n",
      "  'setting alpha = %.1e' % _ALPHA_MIN)\n",
      "/opt/anaconda3/lib/python3.7/site-packages/sklearn/naive_bayes.py:480: UserWarning: alpha too small will result in numeric errors, setting alpha = 1.0e-10\n",
      "  'setting alpha = %.1e' % _ALPHA_MIN)\n",
      "/opt/anaconda3/lib/python3.7/site-packages/sklearn/model_selection/_split.py:2053: FutureWarning: You should specify a value for 'cv' instead of relying on the default value. The default value will change from 3 to 5 in version 0.22.\n",
      "  warnings.warn(CV_WARNING, FutureWarning)\n",
      "/opt/anaconda3/lib/python3.7/site-packages/sklearn/model_selection/_split.py:2053: FutureWarning: You should specify a value for 'cv' instead of relying on the default value. The default value will change from 3 to 5 in version 0.22.\n",
      "  warnings.warn(CV_WARNING, FutureWarning)\n",
      "/opt/anaconda3/lib/python3.7/site-packages/sklearn/naive_bayes.py:480: UserWarning: alpha too small will result in numeric errors, setting alpha = 1.0e-10\n",
      "  'setting alpha = %.1e' % _ALPHA_MIN)\n",
      "/opt/anaconda3/lib/python3.7/site-packages/sklearn/naive_bayes.py:480: UserWarning: alpha too small will result in numeric errors, setting alpha = 1.0e-10\n",
      "  'setting alpha = %.1e' % _ALPHA_MIN)\n",
      "/opt/anaconda3/lib/python3.7/site-packages/sklearn/naive_bayes.py:480: UserWarning: alpha too small will result in numeric errors, setting alpha = 1.0e-10\n",
      "  'setting alpha = %.1e' % _ALPHA_MIN)\n",
      "/opt/anaconda3/lib/python3.7/site-packages/sklearn/naive_bayes.py:480: UserWarning: alpha too small will result in numeric errors, setting alpha = 1.0e-10\n",
      "  'setting alpha = %.1e' % _ALPHA_MIN)\n",
      "/opt/anaconda3/lib/python3.7/site-packages/sklearn/naive_bayes.py:480: UserWarning: alpha too small will result in numeric errors, setting alpha = 1.0e-10\n",
      "  'setting alpha = %.1e' % _ALPHA_MIN)\n",
      "/opt/anaconda3/lib/python3.7/site-packages/sklearn/naive_bayes.py:480: UserWarning: alpha too small will result in numeric errors, setting alpha = 1.0e-10\n",
      "  'setting alpha = %.1e' % _ALPHA_MIN)\n"
     ]
    }
   ],
   "source": [
    "from sklearn.naive_bayes import MultinomialNB\n",
    "from sklearn.naive_bayes import GaussianNB\n",
    "from sklearn.naive_bayes import BernoulliNB\n",
    "\n",
    "parameters1 = {'alpha':(1,0.1,0),\n",
    "              'fit_prior':(True,False)\n",
    "             }\n",
    "\n",
    "parameters2 = {'var_smoothing':(1e-9,1e-8,1e-10)\n",
    "             }\n",
    "\n",
    "\n",
    "MNB=GridSearchCV(MultinomialNB(), parameters1,refit=True)\n",
    "GNB=GridSearchCV(GaussianNB(), parameters2,refit=True)\n",
    "BNB=GridSearchCV(BernoulliNB(), parameters1,refit=True)\n",
    "\n",
    "MNB.fit(Xtrain,Ytrain)\n",
    "GNB.fit(Xtrain,Ytrain)\n",
    "BNB.fit(Xtrain,Ytrain)\n",
    "\n",
    "m=MNB.score(Xtest,Ytest)\n",
    "g=GNB.score(Xtest,Ytest)\n",
    "b=BNB.score(Xtest,Ytest)\n"
   ]
  },
  {
   "cell_type": "code",
   "execution_count": 9,
   "metadata": {
    "scrolled": false
   },
   "outputs": [
    {
     "name": "stdout",
     "output_type": "stream",
     "text": [
      "0.7798085291557877\n",
      "0.8102697998259356\n",
      "0.8285465622280244\n"
     ]
    }
   ],
   "source": [
    "print(m)\n",
    "print(g)\n",
    "print(b)"
   ]
  },
  {
   "cell_type": "code",
   "execution_count": 10,
   "metadata": {},
   "outputs": [
    {
     "name": "stdout",
     "output_type": "stream",
     "text": [
      "MultinomialNB(alpha=0.1, class_prior=None, fit_prior=True)\n"
     ]
    },
    {
     "ename": "TypeError",
     "evalue": "learning_curve() got an unexpected keyword argument 'return_times'",
     "output_type": "error",
     "traceback": [
      "\u001b[0;31m---------------------------------------------------------------------------\u001b[0m",
      "\u001b[0;31mTypeError\u001b[0m                                 Traceback (most recent call last)",
      "\u001b[0;32m<ipython-input-10-8fc9e251db6e>\u001b[0m in \u001b[0;36m<module>\u001b[0;34m\u001b[0m\n\u001b[1;32m      4\u001b[0m \u001b[0mcv\u001b[0m \u001b[0;34m=\u001b[0m \u001b[0mShuffleSplit\u001b[0m\u001b[0;34m(\u001b[0m\u001b[0mn_splits\u001b[0m\u001b[0;34m=\u001b[0m\u001b[0;36m100\u001b[0m\u001b[0;34m,\u001b[0m \u001b[0mtest_size\u001b[0m\u001b[0;34m=\u001b[0m\u001b[0;36m0.2\u001b[0m\u001b[0;34m,\u001b[0m \u001b[0mrandom_state\u001b[0m\u001b[0;34m=\u001b[0m\u001b[0;36m42\u001b[0m\u001b[0;34m)\u001b[0m\u001b[0;34m\u001b[0m\u001b[0;34m\u001b[0m\u001b[0m\n\u001b[1;32m      5\u001b[0m plot_learning_curve(clf.best_estimator_, title, Xtrain, Ytrain, ylim=(0.1, 1.01),\n\u001b[0;32m----> 6\u001b[0;31m                     cv=cv, n_jobs=4)\n\u001b[0m\u001b[1;32m      7\u001b[0m \u001b[0;34m\u001b[0m\u001b[0m\n\u001b[1;32m      8\u001b[0m \u001b[0mtitle\u001b[0m \u001b[0;34m=\u001b[0m \u001b[0;34m\"GaussianNB\"\u001b[0m\u001b[0;34m\u001b[0m\u001b[0;34m\u001b[0m\u001b[0m\n",
      "\u001b[0;32m<ipython-input-5-5c2ec223d7bf>\u001b[0m in \u001b[0;36mplot_learning_curve\u001b[0;34m(estimator, title, X, y, axes, ylim, cv, n_jobs, train_sizes)\u001b[0m\n\u001b[1;32m     85\u001b[0m         learning_curve(estimator, X, y, cv=cv, n_jobs=n_jobs,\n\u001b[1;32m     86\u001b[0m                        \u001b[0mtrain_sizes\u001b[0m\u001b[0;34m=\u001b[0m\u001b[0mtrain_sizes\u001b[0m\u001b[0;34m,\u001b[0m\u001b[0;34m\u001b[0m\u001b[0;34m\u001b[0m\u001b[0m\n\u001b[0;32m---> 87\u001b[0;31m                        return_times=True)\n\u001b[0m\u001b[1;32m     88\u001b[0m     \u001b[0mtrain_scores_mean\u001b[0m \u001b[0;34m=\u001b[0m \u001b[0mnp\u001b[0m\u001b[0;34m.\u001b[0m\u001b[0mmean\u001b[0m\u001b[0;34m(\u001b[0m\u001b[0mtrain_scores\u001b[0m\u001b[0;34m,\u001b[0m \u001b[0maxis\u001b[0m\u001b[0;34m=\u001b[0m\u001b[0;36m1\u001b[0m\u001b[0;34m)\u001b[0m\u001b[0;34m\u001b[0m\u001b[0;34m\u001b[0m\u001b[0m\n\u001b[1;32m     89\u001b[0m     \u001b[0mtrain_scores_std\u001b[0m \u001b[0;34m=\u001b[0m \u001b[0mnp\u001b[0m\u001b[0;34m.\u001b[0m\u001b[0mstd\u001b[0m\u001b[0;34m(\u001b[0m\u001b[0mtrain_scores\u001b[0m\u001b[0;34m,\u001b[0m \u001b[0maxis\u001b[0m\u001b[0;34m=\u001b[0m\u001b[0;36m1\u001b[0m\u001b[0;34m)\u001b[0m\u001b[0;34m\u001b[0m\u001b[0;34m\u001b[0m\u001b[0m\n",
      "\u001b[0;31mTypeError\u001b[0m: learning_curve() got an unexpected keyword argument 'return_times'"
     ]
    },
    {
     "data": {
      "image/png": "[encoded data removed]",
      "text/plain": [
       "<Figure size 1440x360 with 3 Axes>"
      ]
     },
     "metadata": {
      "needs_background": "light"
     },
     "output_type": "display_data"
    }
   ],
   "source": [
    "title = \"MultinomialNB\"\n",
    "# SVC is more expensive so we do a lower number of CV iterations:\n",
    "print(MNB.best_estimator_)\n",
    "cv = ShuffleSplit(n_splits=100, test_size=0.2, random_state=42)\n",
    "plot_learning_curve(clf.best_estimator_, title, Xtrain, Ytrain, ylim=(0.1, 1.01),\n",
    "                    cv=cv, n_jobs=4)\n",
    "\n",
    "title = \"GaussianNB\"\n",
    "# SVC is more expensive so we do a lower number of CV iterations:\n",
    "print(GNB.best_estimator_)\n",
    "plot_learning_curve(GNB.best_estimator_, title, Xtrain, Ytrain, ylim=(0.1, 1.01),\n",
    "                    cv=cv, n_jobs=4)\n",
    "\n",
    "title = \"BernoulliNB\"\n",
    "# SVC is more expensive so we do a lower number of CV iterations:\n",
    "print(BNB.best_estimator_)\n",
    "plot_learning_curve(clf.best_estimator_, title, Xtrain, Ytrain, ylim=(0.1, 1.01),\n",
    "                    cv=cv, n_jobs=4)"
   ]
  },
  {
   "cell_type": "code",
   "execution_count": 11,
   "metadata": {},
   "outputs": [
    {
     "ename": "AttributeError",
     "evalue": "module 'sklearn.metrics' has no attribute 'plot_roc_curve'",
     "output_type": "error",
     "traceback": [
      "\u001b[0;31m---------------------------------------------------------------------------\u001b[0m",
      "\u001b[0;31mAttributeError\u001b[0m                            Traceback (most recent call last)",
      "\u001b[0;32m<ipython-input-11-734b20b38e20>\u001b[0m in \u001b[0;36m<module>\u001b[0;34m\u001b[0m\n\u001b[0;32m----> 1\u001b[0;31m \u001b[0mmetrics\u001b[0m\u001b[0;34m.\u001b[0m\u001b[0mplot_roc_curve\u001b[0m\u001b[0;34m(\u001b[0m\u001b[0mMNB\u001b[0m\u001b[0;34m.\u001b[0m\u001b[0mbest_estimator_\u001b[0m\u001b[0;34m,\u001b[0m \u001b[0mXtest\u001b[0m\u001b[0;34m,\u001b[0m \u001b[0mYtest\u001b[0m\u001b[0;34m)\u001b[0m\u001b[0;34m\u001b[0m\u001b[0;34m\u001b[0m\u001b[0m\n\u001b[0m\u001b[1;32m      2\u001b[0m \u001b[0mmetrics\u001b[0m\u001b[0;34m.\u001b[0m\u001b[0mplot_roc_curve\u001b[0m\u001b[0;34m(\u001b[0m\u001b[0mGNB\u001b[0m\u001b[0;34m.\u001b[0m\u001b[0mbest_estimator_\u001b[0m\u001b[0;34m,\u001b[0m \u001b[0mXtest\u001b[0m\u001b[0;34m,\u001b[0m \u001b[0mYtest\u001b[0m\u001b[0;34m)\u001b[0m\u001b[0;34m\u001b[0m\u001b[0;34m\u001b[0m\u001b[0m\n\u001b[1;32m      3\u001b[0m \u001b[0mmetrics\u001b[0m\u001b[0;34m.\u001b[0m\u001b[0mplot_roc_curve\u001b[0m\u001b[0;34m(\u001b[0m\u001b[0mBNB\u001b[0m\u001b[0;34m.\u001b[0m\u001b[0mbest_estimator_\u001b[0m\u001b[0;34m,\u001b[0m \u001b[0mXtest\u001b[0m\u001b[0;34m,\u001b[0m \u001b[0mYtest\u001b[0m\u001b[0;34m)\u001b[0m\u001b[0;34m\u001b[0m\u001b[0;34m\u001b[0m\u001b[0m\n",
      "\u001b[0;31mAttributeError\u001b[0m: module 'sklearn.metrics' has no attribute 'plot_roc_curve'"
     ]
    }
   ],
   "source": [
    "metrics.plot_roc_curve(MNB.best_estimator_, Xtest, Ytest)\n",
    "metrics.plot_roc_curve(GNB.best_estimator_, Xtest, Ytest) \n",
    "metrics.plot_roc_curve(BNB.best_estimator_, Xtest, Ytest) "
   ]
  },
  {
   "cell_type": "markdown",
   "metadata": {},
   "source": [
    "Les scores sont meilleurs que le perceptron, mais quand on compare les courbes Roc des trois modele il parait beaucoup plus interessant de choisir le modele Gaussien pour Naive Bayes meme avec un taux de reussite legerement plus faible que celui de bernoulli il a une courbe Roc bien meilleur."
   ]
  },
  {
   "cell_type": "markdown",
   "metadata": {},
   "source": [
    "### on teste le MLP\n",
    "##### le perceptron n'etais pas si mauvais donc on va essayer le mlp"
   ]
  },
  {
   "cell_type": "code",
   "execution_count": 12,
   "metadata": {},
   "outputs": [
    {
     "name": "stdout",
     "output_type": "stream",
     "text": [
      "0.8781549173194082\n"
     ]
    }
   ],
   "source": [
    "#cette case sert juste a ne pas avoir a réexecuter tous le code de la recherche de parametre pour MLP qui est excessivement long\n",
    "from sklearn.neural_network import MLPClassifier\n",
    "\n",
    "mlp=MLPClassifier(activation='tanh', max_iter=2000, tol=1e-05)\n",
    "mlp.fit(Xtrain, Ytrain)\n",
    "print(mlp.score(Xtest,Ytest))"
   ]
  },
  {
   "cell_type": "code",
   "execution_count": null,
   "metadata": {},
   "outputs": [
    {
     "name": "stderr",
     "output_type": "stream",
     "text": [
      "/opt/anaconda3/lib/python3.7/site-packages/sklearn/model_selection/_split.py:2053: FutureWarning: You should specify a value for 'cv' instead of relying on the default value. The default value will change from 3 to 5 in version 0.22.\n",
      "  warnings.warn(CV_WARNING, FutureWarning)\n",
      "/opt/anaconda3/lib/python3.7/site-packages/sklearn/neural_network/multilayer_perceptron.py:562: ConvergenceWarning: Stochastic Optimizer: Maximum iterations (2000) reached and the optimization hasn't converged yet.\n",
      "  % self.max_iter, ConvergenceWarning)\n",
      "/opt/anaconda3/lib/python3.7/site-packages/sklearn/neural_network/multilayer_perceptron.py:562: ConvergenceWarning: Stochastic Optimizer: Maximum iterations (2000) reached and the optimization hasn't converged yet.\n",
      "  % self.max_iter, ConvergenceWarning)\n",
      "/opt/anaconda3/lib/python3.7/site-packages/sklearn/neural_network/multilayer_perceptron.py:564: UserWarning: Training interrupted by user.\n",
      "  warnings.warn(\"Training interrupted by user.\")\n",
      "/opt/anaconda3/lib/python3.7/site-packages/sklearn/neural_network/multilayer_perceptron.py:564: UserWarning: Training interrupted by user.\n",
      "  warnings.warn(\"Training interrupted by user.\")\n",
      "/opt/anaconda3/lib/python3.7/site-packages/sklearn/neural_network/multilayer_perceptron.py:564: UserWarning: Training interrupted by user.\n",
      "  warnings.warn(\"Training interrupted by user.\")\n"
     ]
    }
   ],
   "source": [
    "from sklearn.neural_network import MLPClassifier\n",
    "\n",
    "\n",
    "mlp=MLPClassifier(max_iter=2000)\n",
    "\n",
    "parameters = {'activation':('identity', 'logistic', 'tanh', 'relu'),\n",
    "              'solver':('sgd', 'adam'),\n",
    "              'alpha':(0.0001,0.001,0.00001),\n",
    "              'learning_rate':('constant', 'invscaling', 'adaptive'),\n",
    "              #'power_t':(0.1, 0.5,0.75,1),\n",
    "              #'max_iter':(1000,2000),\n",
    "              'tol':(1e-3, 1e-4, 1e-5),\n",
    "              #'momentum':(0.9, 0.8, 0.7,0.6,0.5,0),\n",
    "              #'beta_1':(0.9, 0.8, 0.7,0.6,0.5),\n",
    "              #'beta_2':(0.999, 0.990, 0.9),\n",
    "              #'epsilon':(1e-8,1e-9,1e-7,1e-10,1e-6)\n",
    "             }\n",
    "\n",
    "MLP = GridSearchCV(mlp, parameters,refit=True)\n",
    "\n",
    "MLP.fit(Xtrain, Ytrain)\n",
    "print(MLP.score(Xtest,Ytest))"
   ]
  },
  {
   "cell_type": "code",
   "execution_count": null,
   "metadata": {},
   "outputs": [],
   "source": [
    "print(MLP.best_estimator_)\n",
    "cv = ShuffleSplit(n_splits=100, test_size=0.2, random_state=42)\n",
    "plot_learning_curve(MLP.best_estimator_, title, Xtrain, Ytrain, ylim=(0.7, 1.01),\n",
    "                    cv=cv, n_jobs=4)\n",
    "\n",
    "metrics.plot_roc_curve(MLP.best_estimator_, Xtest, Ytest) "
   ]
  },
  {
   "cell_type": "markdown",
   "metadata": {},
   "source": [
    "### On teste le KNN\n",
    "##### on va voir si le knn peut former des groupes"
   ]
  },
  {
   "cell_type": "code",
   "execution_count": null,
   "metadata": {},
   "outputs": [],
   "source": [
    "from sklearn.neighbors import KNeighborsClassifier\n",
    "\n",
    "parameters = {'n_neighbors':(3,4,5,6,7),\n",
    "              'weights':('uniform', 'distance'),\n",
    "              'algorithm':('auto', 'ball_tree', 'kd_tree', 'brute'),\n",
    "              'leaf_size':(20, 30, 40),\n",
    "              'p':(1, 2,3,)\n",
    "             }\n",
    "\n",
    "neigh = GridSearchCV(KNeighborsClassifier(n_jobs=-1), parameters,refit=True)\n",
    "neigh.fit(Xtrain, Ytrain)\n",
    "n=neigh.score(Xtest,Ytest)"
   ]
  },
  {
   "cell_type": "code",
   "execution_count": null,
   "metadata": {},
   "outputs": [],
   "source": [
    "print(n)"
   ]
  },
  {
   "cell_type": "code",
   "execution_count": null,
   "metadata": {},
   "outputs": [],
   "source": [
    "title = \"KNN\"\n",
    "# SVC is more expensive so we do a lower number of CV iterations:\n",
    "print(neigh.best_estimator_)\n",
    "cv = ShuffleSplit(n_splits=100, test_size=0.2, random_state=42)\n",
    "plot_learning_curve(neigh.best_estimator_, title, Xtrain, Ytrain, ylim=(0.7, 1.01),\n",
    "                    cv=None, n_jobs=4)\n",
    "#MLPClassifier(activation='tanh', learning_rate='adaptive', max_iter=2000)\n",
    "metrics.plot_roc_curve(neigh.best_estimator_, Xtest, Ytest) "
   ]
  },
  {
   "cell_type": "markdown",
   "metadata": {},
   "source": [
    "86% de reussite avec une bonne courbe ROC, il a un score legerement meilleur que le mlp  avec une courbe roc Similaire.\n",
    "Cependant pour les departager il faudrait plus de donnees pour voir si le training score et le cross validation score peuvent converger"
   ]
  },
  {
   "cell_type": "markdown",
   "metadata": {},
   "source": [
    "### On teste RandomForest\n",
    "##### le dernier algo qui pourrait etre meilleur que les autres"
   ]
  },
  {
   "cell_type": "code",
   "execution_count": null,
   "metadata": {},
   "outputs": [],
   "source": [
    "from sklearn.ensemble import RandomForestClassifier\n",
    "\n",
    "parameters = {'n_estimators':(100,250,500),\n",
    "              'criterion':('gini', 'entropy')\n",
    "             }\n",
    "\n",
    "rf= GridSearchCV(RandomForestClassifier(n_jobs=-1), parameters,refit=True)\n",
    "\n",
    "rf.fit(Xtrain, Ytrain)\n",
    "rf.score(Xtest,Ytest)"
   ]
  },
  {
   "cell_type": "code",
   "execution_count": null,
   "metadata": {},
   "outputs": [],
   "source": [
    "title = \"RandomForest\"\n",
    "print(rf.best_estimator_)\n",
    "cv = ShuffleSplit(n_splits=100, test_size=0.2, random_state=42)\n",
    "plot_learning_curve(rf.best_estimator_, title, Xtrain, Ytrain, ylim=(0.7, 1.01),\n",
    "                    cv=cv, n_jobs=4)\n",
    "\n",
    "metrics.plot_roc_curve(rf.best_estimator_, Xtest, Ytest) "
   ]
  },
  {
   "cell_type": "markdown",
   "metadata": {},
   "source": [
    "93% de reussite avec une courbe Roc Excellente.On peut meme supposer aux v ude la courbe d apprentissage qu'avec un jeu de donne plus grand on aurait un meilleur score"
   ]
  },
  {
   "cell_type": "markdown",
   "metadata": {},
   "source": [
    "## Conclusion\n",
    "On peut voir que random forest est le meilleur avec un score avec 93% donc c'est celui que l'on va garder pour predire les AVC\n",
    "#### On crée la fonction de prediction\n",
    "on met l'algo en parametre pour pouvoir le changer plus facilement si besoin"
   ]
  },
  {
   "cell_type": "code",
   "execution_count": null,
   "metadata": {},
   "outputs": [],
   "source": [
    "def prediction(estimator,G:int, A:int, H:int, MC:int, DM:int, TJ:int, ZR:int, Gly:int, imc:int, F:int):\n",
    "    data={'Genre':[G],'Age':[A],'Hypertension':[H],'Maladie_cardiaque':[MC],'Deja_marie':[DM],'Type_job':[TJ],'Zone_residence':[ZR],'Glycemie':[Gly],'IMC':[imc],'Fumeur':[F]}\n",
    "    df = pd.DataFrame(data)\n",
    "    return [estimator.predict(df),estimator.predict_proba(df)]"
   ]
  },
  {
   "cell_type": "code",
   "execution_count": null,
   "metadata": {},
   "outputs": [],
   "source": []
  },
  {
   "cell_type": "markdown",
   "metadata": {},
   "source": [
    "Un exemple de l utilisation de la fonction"
   ]
  },
  {
   "cell_type": "code",
   "execution_count": null,
   "metadata": {
    "scrolled": true
   },
   "outputs": [],
   "source": [
    "prediction(rf,G=1, A=49, H=0, MC=0, DM=1, TJ=0, ZR=0, Gly=171, imc=36, F=2)"
   ]
  },
  {
   "cell_type": "code",
   "execution_count": null,
   "metadata": {},
   "outputs": [],
   "source": []
  },
  {
   "cell_type": "code",
   "execution_count": null,
   "metadata": {},
   "outputs": [],
   "source": []
  }
 ],
 "metadata": {
  "kernelspec": {
   "display_name": "Python 3",
   "language": "python",
   "name": "python3"
  },
  "language_info": {
   "codemirror_mode": {
    "name": "ipython",
    "version": 3
   },
   "file_extension": ".py",
   "mimetype": "text/x-python",
   "name": "python",
   "nbconvert_exporter": "python",
   "pygments_lexer": "ipython3",
   "version": "3.7.3"
  }
 },
 "nbformat": 4,
 "nbformat_minor": 4
}
